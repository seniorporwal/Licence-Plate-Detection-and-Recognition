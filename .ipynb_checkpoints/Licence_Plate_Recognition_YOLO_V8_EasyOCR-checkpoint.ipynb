{
 "cells": [
  {
   "cell_type": "code",
   "execution_count": 4,
   "metadata": {
    "colab": {
     "base_uri": "https://localhost:8080/"
    },
    "id": "YI3lrkLBcV-o",
    "outputId": "fdf0951d-fa0c-4d31-ab46-ce8eeb77805d"
   },
   "outputs": [
    {
     "name": "stdout",
     "output_type": "stream",
     "text": [
      "C:\\Users\\aryan\\OneDrive\\Desktop\\Licence-Plate-Detection-and-Recognition\n"
     ]
    }
   ],
   "source": [
    "cd C:\\Users\\aryan\\OneDrive\\Desktop\\Licence-Plate-Detection-and-Recognition"
   ]
  },
  {
   "cell_type": "code",
   "execution_count": 5,
   "metadata": {
    "colab": {
     "base_uri": "https://localhost:8080/",
     "height": 1000
    },
    "id": "SAy_5DdlcPaG",
    "outputId": "289873f9-87ad-4bc6-f1c8-20dd1fc1b0c4"
   },
   "outputs": [
    {
     "name": "stdout",
     "output_type": "stream",
     "text": [
      "Requirement already satisfied: ultralytics==8.0.3 in c:\\users\\aryan\\anaconda3\\lib\\site-packages (from -r requirements.txt (line 4)) (8.0.3)Note: you may need to restart the kernel to use updated packages.\n",
      "\n",
      "Requirement already satisfied: hydra-core>=1.2.0 in c:\\users\\aryan\\anaconda3\\lib\\site-packages (from -r requirements.txt (line 5)) (1.3.2)\n",
      "Requirement already satisfied: matplotlib>=3.2.2 in c:\\users\\aryan\\anaconda3\\lib\\site-packages (from -r requirements.txt (line 6)) (3.7.1)\n",
      "Requirement already satisfied: numpy>=1.18.5 in c:\\users\\aryan\\anaconda3\\lib\\site-packages (from -r requirements.txt (line 7)) (1.24.3)\n",
      "Requirement already satisfied: opencv-python>=4.1.1 in c:\\users\\aryan\\anaconda3\\lib\\site-packages (from -r requirements.txt (line 8)) (4.8.1.78)\n",
      "Requirement already satisfied: Pillow>=7.1.2 in c:\\users\\aryan\\anaconda3\\lib\\site-packages (from -r requirements.txt (line 9)) (9.4.0)\n",
      "Requirement already satisfied: PyYAML>=5.3.1 in c:\\users\\aryan\\anaconda3\\lib\\site-packages (from -r requirements.txt (line 10)) (6.0)\n",
      "Requirement already satisfied: requests>=2.23.0 in c:\\users\\aryan\\anaconda3\\lib\\site-packages (from -r requirements.txt (line 11)) (2.31.0)\n",
      "Requirement already satisfied: scipy>=1.4.1 in c:\\users\\aryan\\anaconda3\\lib\\site-packages (from -r requirements.txt (line 12)) (1.10.1)\n",
      "Requirement already satisfied: torch>=1.7.0 in c:\\users\\aryan\\anaconda3\\lib\\site-packages (from -r requirements.txt (line 13)) (2.1.0)\n",
      "Requirement already satisfied: torchvision>=0.8.1 in c:\\users\\aryan\\anaconda3\\lib\\site-packages (from -r requirements.txt (line 14)) (0.16.0)\n",
      "Requirement already satisfied: tqdm>=4.64.0 in c:\\users\\aryan\\anaconda3\\lib\\site-packages (from -r requirements.txt (line 15)) (4.65.0)\n",
      "Requirement already satisfied: Easyocr in c:\\users\\aryan\\anaconda3\\lib\\site-packages (from -r requirements.txt (line 16)) (1.7.1)\n",
      "Requirement already satisfied: tensorboard>=2.4.1 in c:\\users\\aryan\\anaconda3\\lib\\site-packages (from -r requirements.txt (line 19)) (2.15.1)\n",
      "Requirement already satisfied: pandas>=1.1.4 in c:\\users\\aryan\\anaconda3\\lib\\site-packages (from -r requirements.txt (line 23)) (1.5.3)\n",
      "Requirement already satisfied: seaborn>=0.11.0 in c:\\users\\aryan\\anaconda3\\lib\\site-packages (from -r requirements.txt (line 24)) (0.12.2)\n",
      "Requirement already satisfied: ipython in c:\\users\\aryan\\anaconda3\\lib\\site-packages (from -r requirements.txt (line 27)) (8.12.0)\n",
      "Requirement already satisfied: psutil in c:\\users\\aryan\\anaconda3\\lib\\site-packages (from -r requirements.txt (line 28)) (5.9.0)\n",
      "Requirement already satisfied: thop>=0.1.1 in c:\\users\\aryan\\anaconda3\\lib\\site-packages (from -r requirements.txt (line 29)) (0.1.1.post2209072238)\n",
      "Requirement already satisfied: GitPython>=3.1.24 in c:\\users\\aryan\\anaconda3\\lib\\site-packages (from -r requirements.txt (line 32)) (3.1.40)\n",
      "Requirement already satisfied: omegaconf<2.4,>=2.2 in c:\\users\\aryan\\anaconda3\\lib\\site-packages (from hydra-core>=1.2.0->-r requirements.txt (line 5)) (2.3.0)\n",
      "Requirement already satisfied: antlr4-python3-runtime==4.9.* in c:\\users\\aryan\\anaconda3\\lib\\site-packages (from hydra-core>=1.2.0->-r requirements.txt (line 5)) (4.9.3)\n",
      "Requirement already satisfied: packaging in c:\\users\\aryan\\anaconda3\\lib\\site-packages (from hydra-core>=1.2.0->-r requirements.txt (line 5)) (23.0)\n",
      "Requirement already satisfied: contourpy>=1.0.1 in c:\\users\\aryan\\anaconda3\\lib\\site-packages (from matplotlib>=3.2.2->-r requirements.txt (line 6)) (1.0.5)\n",
      "Requirement already satisfied: cycler>=0.10 in c:\\users\\aryan\\anaconda3\\lib\\site-packages (from matplotlib>=3.2.2->-r requirements.txt (line 6)) (0.11.0)\n",
      "Requirement already satisfied: fonttools>=4.22.0 in c:\\users\\aryan\\anaconda3\\lib\\site-packages (from matplotlib>=3.2.2->-r requirements.txt (line 6)) (4.25.0)\n",
      "Requirement already satisfied: kiwisolver>=1.0.1 in c:\\users\\aryan\\anaconda3\\lib\\site-packages (from matplotlib>=3.2.2->-r requirements.txt (line 6)) (1.4.4)\n",
      "Requirement already satisfied: pyparsing>=2.3.1 in c:\\users\\aryan\\anaconda3\\lib\\site-packages (from matplotlib>=3.2.2->-r requirements.txt (line 6)) (3.0.9)\n",
      "Requirement already satisfied: python-dateutil>=2.7 in c:\\users\\aryan\\anaconda3\\lib\\site-packages (from matplotlib>=3.2.2->-r requirements.txt (line 6)) (2.8.2)\n",
      "Requirement already satisfied: charset-normalizer<4,>=2 in c:\\users\\aryan\\anaconda3\\lib\\site-packages (from requests>=2.23.0->-r requirements.txt (line 11)) (2.0.4)\n",
      "Requirement already satisfied: idna<4,>=2.5 in c:\\users\\aryan\\anaconda3\\lib\\site-packages (from requests>=2.23.0->-r requirements.txt (line 11)) (3.4)\n",
      "Requirement already satisfied: urllib3<3,>=1.21.1 in c:\\users\\aryan\\anaconda3\\lib\\site-packages (from requests>=2.23.0->-r requirements.txt (line 11)) (1.26.16)\n",
      "Requirement already satisfied: certifi>=2017.4.17 in c:\\users\\aryan\\anaconda3\\lib\\site-packages (from requests>=2.23.0->-r requirements.txt (line 11)) (2023.11.17)\n",
      "Requirement already satisfied: filelock in c:\\users\\aryan\\anaconda3\\lib\\site-packages (from torch>=1.7.0->-r requirements.txt (line 13)) (3.9.0)\n",
      "Requirement already satisfied: typing-extensions in c:\\users\\aryan\\anaconda3\\lib\\site-packages (from torch>=1.7.0->-r requirements.txt (line 13)) (4.7.1)\n",
      "Requirement already satisfied: sympy in c:\\users\\aryan\\anaconda3\\lib\\site-packages (from torch>=1.7.0->-r requirements.txt (line 13)) (1.11.1)\n",
      "Requirement already satisfied: networkx in c:\\users\\aryan\\anaconda3\\lib\\site-packages (from torch>=1.7.0->-r requirements.txt (line 13)) (3.1)\n",
      "Requirement already satisfied: jinja2 in c:\\users\\aryan\\anaconda3\\lib\\site-packages (from torch>=1.7.0->-r requirements.txt (line 13)) (3.1.2)\n",
      "Requirement already satisfied: fsspec in c:\\users\\aryan\\anaconda3\\lib\\site-packages (from torch>=1.7.0->-r requirements.txt (line 13)) (2023.3.0)\n",
      "Requirement already satisfied: colorama in c:\\users\\aryan\\anaconda3\\lib\\site-packages (from tqdm>=4.64.0->-r requirements.txt (line 15)) (0.4.6)\n",
      "Requirement already satisfied: opencv-python-headless in c:\\users\\aryan\\anaconda3\\lib\\site-packages (from Easyocr->-r requirements.txt (line 16)) (4.8.1.78)\n",
      "Requirement already satisfied: scikit-image in c:\\users\\aryan\\anaconda3\\lib\\site-packages (from Easyocr->-r requirements.txt (line 16)) (0.20.0)\n",
      "Requirement already satisfied: python-bidi in c:\\users\\aryan\\anaconda3\\lib\\site-packages (from Easyocr->-r requirements.txt (line 16)) (0.4.2)\n",
      "Requirement already satisfied: Shapely in c:\\users\\aryan\\anaconda3\\lib\\site-packages (from Easyocr->-r requirements.txt (line 16)) (2.0.2)\n",
      "Requirement already satisfied: pyclipper in c:\\users\\aryan\\anaconda3\\lib\\site-packages (from Easyocr->-r requirements.txt (line 16)) (1.3.0.post5)\n",
      "Requirement already satisfied: ninja in c:\\users\\aryan\\anaconda3\\lib\\site-packages (from Easyocr->-r requirements.txt (line 16)) (1.11.1.1)\n",
      "Requirement already satisfied: absl-py>=0.4 in c:\\users\\aryan\\anaconda3\\lib\\site-packages (from tensorboard>=2.4.1->-r requirements.txt (line 19)) (2.0.0)\n",
      "Requirement already satisfied: grpcio>=1.48.2 in c:\\users\\aryan\\anaconda3\\lib\\site-packages (from tensorboard>=2.4.1->-r requirements.txt (line 19)) (1.60.0)\n",
      "Requirement already satisfied: google-auth<3,>=1.6.3 in c:\\users\\aryan\\anaconda3\\lib\\site-packages (from tensorboard>=2.4.1->-r requirements.txt (line 19)) (2.25.2)\n",
      "Requirement already satisfied: google-auth-oauthlib<2,>=0.5 in c:\\users\\aryan\\anaconda3\\lib\\site-packages (from tensorboard>=2.4.1->-r requirements.txt (line 19)) (1.1.0)\n",
      "Requirement already satisfied: markdown>=2.6.8 in c:\\users\\aryan\\anaconda3\\lib\\site-packages (from tensorboard>=2.4.1->-r requirements.txt (line 19)) (3.4.1)\n",
      "Requirement already satisfied: protobuf<4.24,>=3.19.6 in c:\\users\\aryan\\anaconda3\\lib\\site-packages (from tensorboard>=2.4.1->-r requirements.txt (line 19)) (4.23.4)\n",
      "Requirement already satisfied: setuptools>=41.0.0 in c:\\users\\aryan\\anaconda3\\lib\\site-packages (from tensorboard>=2.4.1->-r requirements.txt (line 19)) (68.0.0)\n",
      "Requirement already satisfied: six>1.9 in c:\\users\\aryan\\anaconda3\\lib\\site-packages (from tensorboard>=2.4.1->-r requirements.txt (line 19)) (1.16.0)\n",
      "Requirement already satisfied: tensorboard-data-server<0.8.0,>=0.7.0 in c:\\users\\aryan\\anaconda3\\lib\\site-packages (from tensorboard>=2.4.1->-r requirements.txt (line 19)) (0.7.2)\n",
      "Requirement already satisfied: werkzeug>=1.0.1 in c:\\users\\aryan\\anaconda3\\lib\\site-packages (from tensorboard>=2.4.1->-r requirements.txt (line 19)) (2.2.3)\n",
      "Requirement already satisfied: pytz>=2020.1 in c:\\users\\aryan\\anaconda3\\lib\\site-packages (from pandas>=1.1.4->-r requirements.txt (line 23)) (2022.7)\n",
      "Requirement already satisfied: backcall in c:\\users\\aryan\\anaconda3\\lib\\site-packages (from ipython->-r requirements.txt (line 27)) (0.2.0)\n",
      "Requirement already satisfied: decorator in c:\\users\\aryan\\anaconda3\\lib\\site-packages (from ipython->-r requirements.txt (line 27)) (5.1.1)\n",
      "Requirement already satisfied: jedi>=0.16 in c:\\users\\aryan\\anaconda3\\lib\\site-packages (from ipython->-r requirements.txt (line 27)) (0.18.1)\n",
      "Requirement already satisfied: matplotlib-inline in c:\\users\\aryan\\anaconda3\\lib\\site-packages (from ipython->-r requirements.txt (line 27)) (0.1.6)\n",
      "Requirement already satisfied: pickleshare in c:\\users\\aryan\\anaconda3\\lib\\site-packages (from ipython->-r requirements.txt (line 27)) (0.7.5)\n",
      "Requirement already satisfied: prompt-toolkit!=3.0.37,<3.1.0,>=3.0.30 in c:\\users\\aryan\\anaconda3\\lib\\site-packages (from ipython->-r requirements.txt (line 27)) (3.0.36)\n",
      "Requirement already satisfied: pygments>=2.4.0 in c:\\users\\aryan\\anaconda3\\lib\\site-packages (from ipython->-r requirements.txt (line 27)) (2.15.1)\n",
      "Requirement already satisfied: stack-data in c:\\users\\aryan\\anaconda3\\lib\\site-packages (from ipython->-r requirements.txt (line 27)) (0.2.0)\n",
      "Requirement already satisfied: traitlets>=5 in c:\\users\\aryan\\anaconda3\\lib\\site-packages (from ipython->-r requirements.txt (line 27)) (5.7.1)\n",
      "Requirement already satisfied: gitdb<5,>=4.0.1 in c:\\users\\aryan\\anaconda3\\lib\\site-packages (from GitPython>=3.1.24->-r requirements.txt (line 32)) (4.0.11)\n",
      "Requirement already satisfied: smmap<6,>=3.0.1 in c:\\users\\aryan\\anaconda3\\lib\\site-packages (from gitdb<5,>=4.0.1->GitPython>=3.1.24->-r requirements.txt (line 32)) (5.0.1)\n",
      "Requirement already satisfied: cachetools<6.0,>=2.0.0 in c:\\users\\aryan\\anaconda3\\lib\\site-packages (from google-auth<3,>=1.6.3->tensorboard>=2.4.1->-r requirements.txt (line 19)) (5.3.2)\n",
      "Requirement already satisfied: pyasn1-modules>=0.2.1 in c:\\users\\aryan\\anaconda3\\lib\\site-packages (from google-auth<3,>=1.6.3->tensorboard>=2.4.1->-r requirements.txt (line 19)) (0.2.8)\n",
      "Requirement already satisfied: rsa<5,>=3.1.4 in c:\\users\\aryan\\anaconda3\\lib\\site-packages (from google-auth<3,>=1.6.3->tensorboard>=2.4.1->-r requirements.txt (line 19)) (4.9)\n",
      "Requirement already satisfied: requests-oauthlib>=0.7.0 in c:\\users\\aryan\\anaconda3\\lib\\site-packages (from google-auth-oauthlib<2,>=0.5->tensorboard>=2.4.1->-r requirements.txt (line 19)) (1.3.1)\n",
      "Requirement already satisfied: parso<0.9.0,>=0.8.0 in c:\\users\\aryan\\anaconda3\\lib\\site-packages (from jedi>=0.16->ipython->-r requirements.txt (line 27)) (0.8.3)\n",
      "Requirement already satisfied: wcwidth in c:\\users\\aryan\\anaconda3\\lib\\site-packages (from prompt-toolkit!=3.0.37,<3.1.0,>=3.0.30->ipython->-r requirements.txt (line 27)) (0.2.5)\n",
      "Requirement already satisfied: MarkupSafe>=2.1.1 in c:\\users\\aryan\\anaconda3\\lib\\site-packages (from werkzeug>=1.0.1->tensorboard>=2.4.1->-r requirements.txt (line 19)) (2.1.1)\n",
      "Requirement already satisfied: imageio>=2.4.1 in c:\\users\\aryan\\anaconda3\\lib\\site-packages (from scikit-image->Easyocr->-r requirements.txt (line 16)) (2.26.0)\n",
      "Requirement already satisfied: tifffile>=2019.7.26 in c:\\users\\aryan\\anaconda3\\lib\\site-packages (from scikit-image->Easyocr->-r requirements.txt (line 16)) (2021.7.2)\n",
      "Requirement already satisfied: PyWavelets>=1.1.1 in c:\\users\\aryan\\anaconda3\\lib\\site-packages (from scikit-image->Easyocr->-r requirements.txt (line 16)) (1.4.1)\n",
      "Requirement already satisfied: lazy_loader>=0.1 in c:\\users\\aryan\\anaconda3\\lib\\site-packages (from scikit-image->Easyocr->-r requirements.txt (line 16)) (0.2)\n",
      "Requirement already satisfied: executing in c:\\users\\aryan\\anaconda3\\lib\\site-packages (from stack-data->ipython->-r requirements.txt (line 27)) (0.8.3)\n",
      "Requirement already satisfied: asttokens in c:\\users\\aryan\\anaconda3\\lib\\site-packages (from stack-data->ipython->-r requirements.txt (line 27)) (2.0.5)\n",
      "Requirement already satisfied: pure-eval in c:\\users\\aryan\\anaconda3\\lib\\site-packages (from stack-data->ipython->-r requirements.txt (line 27)) (0.2.2)\n",
      "Requirement already satisfied: mpmath>=0.19 in c:\\users\\aryan\\anaconda3\\lib\\site-packages (from sympy->torch>=1.7.0->-r requirements.txt (line 13)) (1.3.0)\n",
      "Requirement already satisfied: pyasn1<0.5.0,>=0.4.6 in c:\\users\\aryan\\anaconda3\\lib\\site-packages (from pyasn1-modules>=0.2.1->google-auth<3,>=1.6.3->tensorboard>=2.4.1->-r requirements.txt (line 19)) (0.4.8)\n",
      "Requirement already satisfied: oauthlib>=3.0.0 in c:\\users\\aryan\\anaconda3\\lib\\site-packages (from requests-oauthlib>=0.7.0->google-auth-oauthlib<2,>=0.5->tensorboard>=2.4.1->-r requirements.txt (line 19)) (3.2.2)\n"
     ]
    }
   ],
   "source": [
    "pip install -r requirements.txt"
   ]
  },
  {
   "cell_type": "code",
   "execution_count": 6,
   "metadata": {
    "colab": {
     "base_uri": "https://localhost:8080/"
    },
    "id": "jUhBdfQ-cbzV",
    "outputId": "2e0c445a-2079-4f2e-8b70-8535e54ab343"
   },
   "outputs": [
    {
     "name": "stdout",
     "output_type": "stream",
     "text": [
      "^C\n"
     ]
    }
   ],
   "source": [
    "!python predictWithOCR.py model='C:\\Users\\aryan\\OneDrive\\Desktop\\Licence-Plate-Detection-and-Recognition\\best.pt' source='C:\\Users\\aryan\\OneDrive\\Desktop\\Licence-Plate-Detection-and-Recognition\\demo1.mp4'"
   ]
  },
  {
   "cell_type": "code",
   "execution_count": null,
   "metadata": {},
   "outputs": [],
   "source": []
  },
  {
   "cell_type": "code",
   "execution_count": null,
   "metadata": {},
   "outputs": [],
   "source": []
  }
 ],
 "metadata": {
  "accelerator": "GPU",
  "colab": {
   "gpuType": "T4",
   "provenance": []
  },
  "kernelspec": {
   "display_name": "Python 3 (ipykernel)",
   "language": "python",
   "name": "python3"
  },
  "language_info": {
   "codemirror_mode": {
    "name": "ipython",
    "version": 3
   },
   "file_extension": ".py",
   "mimetype": "text/x-python",
   "name": "python",
   "nbconvert_exporter": "python",
   "pygments_lexer": "ipython3",
   "version": "3.11.4"
  }
 },
 "nbformat": 4,
 "nbformat_minor": 4
}
